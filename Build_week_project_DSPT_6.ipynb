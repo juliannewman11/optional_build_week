{
  "nbformat": 4,
  "nbformat_minor": 0,
  "metadata": {
    "colab": {
      "name": "Build_week_project_DSPT_6",
      "provenance": [],
      "authorship_tag": "ABX9TyORFh45sboL0W38sxSqyCIr",
      "include_colab_link": true
    },
    "kernelspec": {
      "name": "python3",
      "display_name": "Python 3"
    }
  },
  "cells": [
    {
      "cell_type": "markdown",
      "metadata": {
        "id": "view-in-github",
        "colab_type": "text"
      },
      "source": [
        "<a href=\"https://colab.research.google.com/github/juliannewman11/optional_build_week/blob/master/Build_week_project_DSPT_6.ipynb\" target=\"_parent\"><img src=\"https://colab.research.google.com/assets/colab-badge.svg\" alt=\"Open In Colab\"/></a>"
      ]
    },
    {
      "cell_type": "code",
      "metadata": {
        "id": "syF5P4NYtxbk",
        "colab_type": "code",
        "colab": {}
      },
      "source": [
        "import pandas as pd\n",
        "import numpy as np\n",
        "import matplotlib.pyplot as plt\n",
        "import plotly.express as px\n",
        "import plotly.graph_objects as go\n",
        "import matplotlib as mpl\n",
        "mpl.rcParams['figure.dpi'] = 100\n"
      ],
      "execution_count": 0,
      "outputs": []
    },
    {
      "cell_type": "markdown",
      "metadata": {
        "id": "NY6pAC6R9AI5",
        "colab_type": "text"
      },
      "source": [
        "# **Here I began to import my data via CSV**\n",
        "\n",
        "*   I uploaded the file of my cyber-security data to Github so\n",
        "*   I could create a URL to avoid run-time issues.\n",
        "\n",
        "\n"
      ]
    },
    {
      "cell_type": "code",
      "metadata": {
        "id": "kfFIQi0PVJGW",
        "colab_type": "code",
        "outputId": "f0e503ad-e3c7-4921-a673-fc1ca7db4f22",
        "colab": {
          "base_uri": "https://localhost:8080/",
          "height": 601
        }
      },
      "source": [
        "df = pd.read_csv('https://raw.githubusercontent.com/juliannewman11/optional_build_week/master/Cyber%20Security%20Breaches.csv')\n",
        "print(df.shape)\n",
        "df.head()"
      ],
      "execution_count": 32,
      "outputs": [
        {
          "output_type": "stream",
          "text": [
            "(1055, 14)\n"
          ],
          "name": "stdout"
        },
        {
          "output_type": "execute_result",
          "data": {
            "text/html": [
              "<div>\n",
              "<style scoped>\n",
              "    .dataframe tbody tr th:only-of-type {\n",
              "        vertical-align: middle;\n",
              "    }\n",
              "\n",
              "    .dataframe tbody tr th {\n",
              "        vertical-align: top;\n",
              "    }\n",
              "\n",
              "    .dataframe thead th {\n",
              "        text-align: right;\n",
              "    }\n",
              "</style>\n",
              "<table border=\"1\" class=\"dataframe\">\n",
              "  <thead>\n",
              "    <tr style=\"text-align: right;\">\n",
              "      <th></th>\n",
              "      <th>Unnamed: 0</th>\n",
              "      <th>Number</th>\n",
              "      <th>Name_of_Covered_Entity</th>\n",
              "      <th>State</th>\n",
              "      <th>Business_Associate_Involved</th>\n",
              "      <th>Individuals_Affected</th>\n",
              "      <th>Date_of_Breach</th>\n",
              "      <th>Type_of_Breach</th>\n",
              "      <th>Location_of_Breached_Information</th>\n",
              "      <th>Date_Posted_or_Updated</th>\n",
              "      <th>Summary</th>\n",
              "      <th>breach_start</th>\n",
              "      <th>breach_end</th>\n",
              "      <th>year</th>\n",
              "    </tr>\n",
              "  </thead>\n",
              "  <tbody>\n",
              "    <tr>\n",
              "      <th>0</th>\n",
              "      <td>1</td>\n",
              "      <td>0</td>\n",
              "      <td>Brooke Army Medical Center</td>\n",
              "      <td>TX</td>\n",
              "      <td>NaN</td>\n",
              "      <td>1000</td>\n",
              "      <td>10/16/2009</td>\n",
              "      <td>Theft</td>\n",
              "      <td>Paper</td>\n",
              "      <td>2014-06-30</td>\n",
              "      <td>A binder containing the protected health infor...</td>\n",
              "      <td>2009-10-16</td>\n",
              "      <td>NaN</td>\n",
              "      <td>2009</td>\n",
              "    </tr>\n",
              "    <tr>\n",
              "      <th>1</th>\n",
              "      <td>2</td>\n",
              "      <td>1</td>\n",
              "      <td>Mid America Kidney Stone Association, LLC</td>\n",
              "      <td>MO</td>\n",
              "      <td>NaN</td>\n",
              "      <td>1000</td>\n",
              "      <td>9/22/2009</td>\n",
              "      <td>Theft</td>\n",
              "      <td>Network Server</td>\n",
              "      <td>2014-05-30</td>\n",
              "      <td>Five desktop computers containing unencrypted ...</td>\n",
              "      <td>2009-09-22</td>\n",
              "      <td>NaN</td>\n",
              "      <td>2009</td>\n",
              "    </tr>\n",
              "    <tr>\n",
              "      <th>2</th>\n",
              "      <td>3</td>\n",
              "      <td>2</td>\n",
              "      <td>Alaska Department of Health and Social Services</td>\n",
              "      <td>AK</td>\n",
              "      <td>NaN</td>\n",
              "      <td>501</td>\n",
              "      <td>10/12/2009</td>\n",
              "      <td>Theft</td>\n",
              "      <td>Other Portable Electronic Device, Other</td>\n",
              "      <td>2014-01-23</td>\n",
              "      <td>NaN</td>\n",
              "      <td>2009-10-12</td>\n",
              "      <td>NaN</td>\n",
              "      <td>2009</td>\n",
              "    </tr>\n",
              "    <tr>\n",
              "      <th>3</th>\n",
              "      <td>4</td>\n",
              "      <td>3</td>\n",
              "      <td>Health Services for Children with Special Need...</td>\n",
              "      <td>DC</td>\n",
              "      <td>NaN</td>\n",
              "      <td>3800</td>\n",
              "      <td>10/9/2009</td>\n",
              "      <td>Loss</td>\n",
              "      <td>Laptop</td>\n",
              "      <td>2014-01-23</td>\n",
              "      <td>A laptop was lost by an employee while in tran...</td>\n",
              "      <td>2009-10-09</td>\n",
              "      <td>NaN</td>\n",
              "      <td>2009</td>\n",
              "    </tr>\n",
              "    <tr>\n",
              "      <th>4</th>\n",
              "      <td>5</td>\n",
              "      <td>4</td>\n",
              "      <td>L. Douglas Carlson, M.D.</td>\n",
              "      <td>CA</td>\n",
              "      <td>NaN</td>\n",
              "      <td>5257</td>\n",
              "      <td>9/27/2009</td>\n",
              "      <td>Theft</td>\n",
              "      <td>Desktop Computer</td>\n",
              "      <td>2014-01-23</td>\n",
              "      <td>A shared Computer that was used for backup was...</td>\n",
              "      <td>2009-09-27</td>\n",
              "      <td>NaN</td>\n",
              "      <td>2009</td>\n",
              "    </tr>\n",
              "  </tbody>\n",
              "</table>\n",
              "</div>"
            ],
            "text/plain": [
              "   Unnamed: 0  Number  ... breach_end  year\n",
              "0           1       0  ...        NaN  2009\n",
              "1           2       1  ...        NaN  2009\n",
              "2           3       2  ...        NaN  2009\n",
              "3           4       3  ...        NaN  2009\n",
              "4           5       4  ...        NaN  2009\n",
              "\n",
              "[5 rows x 14 columns]"
            ]
          },
          "metadata": {
            "tags": []
          },
          "execution_count": 32
        }
      ]
    },
    {
      "cell_type": "markdown",
      "metadata": {
        "id": "5I8mY9eF-Aai",
        "colab_type": "text"
      },
      "source": [
        "# In this section I am applying EDA/Cleaning to \n",
        "# refine the data to be prepared to graph."
      ]
    },
    {
      "cell_type": "code",
      "metadata": {
        "id": "EBrKSGTTiXGc",
        "colab_type": "code",
        "colab": {}
      },
      "source": [
        "# Replacing the NaNs with an \" * \"\n",
        "# To avoid invaild results when running tests\n",
        "df['breach_end'] = df['breach_end'].fillna('*')"
      ],
      "execution_count": 0,
      "outputs": []
    },
    {
      "cell_type": "code",
      "metadata": {
        "id": "sZvF1FAklQR2",
        "colab_type": "code",
        "colab": {}
      },
      "source": [
        "# Replacing the NaNs with an \" * \"\n",
        "# To avoid invaild results when running tests\n",
        "df['Business_Associate_Involved'] = df['Business_Associate_Involved'].fillna('*')"
      ],
      "execution_count": 0,
      "outputs": []
    },
    {
      "cell_type": "code",
      "metadata": {
        "id": "GuoT_42GIRB0",
        "colab_type": "code",
        "outputId": "dcc78b14-191b-4917-c9ad-974a38187f57",
        "colab": {
          "base_uri": "https://localhost:8080/",
          "height": 517
        }
      },
      "source": [
        "# Using value_counts to understand the variety \n",
        "# of cyber attacks \n",
        "df['Type_of_Breach'].value_counts()"
      ],
      "execution_count": 35,
      "outputs": [
        {
          "output_type": "execute_result",
          "data": {
            "text/plain": [
              "Theft                                                         516\n",
              "Unauthorized Access/Disclosure                                148\n",
              "Other                                                          91\n",
              "Loss                                                           85\n",
              "Hacking/IT Incident                                            75\n",
              "Improper Disposal                                              38\n",
              "Theft, Unauthorized Access/Disclosure                          26\n",
              "Theft, Loss                                                    15\n",
              "Unknown                                                        10\n",
              "Unauthorized Access/Disclosure, Hacking/IT Incident             9\n",
              "Unauthorized Access/Disclosure, Other                           8\n",
              "Loss, Unauthorized Access/Disclosure                            5\n",
              "Theft, Other                                                    5\n",
              "Theft, Unauthorized Access/Disclosure, Hacking/IT Incident      3\n",
              "Loss, Improper Disposal                                         3\n",
              "Loss, Unknown                                                   2\n",
              "Loss, Other                                                     2\n",
              "Unauthorized Access/Disclosure                                  2\n",
              "Unknown, Other                                                  2\n",
              "Loss, Unauthorized Access/Disclosure, Unknown                   1\n",
              "Unauthorized Access/Disclosure, Hacking/IT Incident, Other      1\n",
              "Theft, Loss, Unauthorized Access/Disclosure, Unknown            1\n",
              "Theft, Loss, Other                                              1\n",
              "Theft, Loss, Improper Disposal                                  1\n",
              "Theft, Hacking/IT Incident                                      1\n",
              "Theft, Unauthorized Access/Disclosure, Other                    1\n",
              "Improper Disposal, Unauthorized Access/Disclosure               1\n",
              "Theft, Improper Disposal, Unauthorized Access/Disclosure        1\n",
              "Hacking/IT Incident, Other                                      1\n",
              "Name: Type_of_Breach, dtype: int64"
            ]
          },
          "metadata": {
            "tags": []
          },
          "execution_count": 35
        }
      ]
    },
    {
      "cell_type": "code",
      "metadata": {
        "id": "pMpfwpEHpazH",
        "colab_type": "code",
        "colab": {}
      },
      "source": [
        "# Here I am condensing the column to only display\n",
        "# the breaches that happned 8 or more times \n",
        "df1 = df.groupby('Type_of_Breach').filter(lambda x : len(x)>6)"
      ],
      "execution_count": 0,
      "outputs": []
    },
    {
      "cell_type": "code",
      "metadata": {
        "id": "6aV_0pK6ppxo",
        "colab_type": "code",
        "outputId": "289b615f-12ea-4901-9aae-f0066a20b038",
        "colab": {
          "base_uri": "https://localhost:8080/",
          "height": 217
        }
      },
      "source": [
        "df1[\"Type_of_Breach\"].value_counts()"
      ],
      "execution_count": 37,
      "outputs": [
        {
          "output_type": "execute_result",
          "data": {
            "text/plain": [
              "Theft                                                  516\n",
              "Unauthorized Access/Disclosure                         148\n",
              "Other                                                   91\n",
              "Loss                                                    85\n",
              "Hacking/IT Incident                                     75\n",
              "Improper Disposal                                       38\n",
              "Theft, Unauthorized Access/Disclosure                   26\n",
              "Theft, Loss                                             15\n",
              "Unknown                                                 10\n",
              "Unauthorized Access/Disclosure, Hacking/IT Incident      9\n",
              "Unauthorized Access/Disclosure, Other                    8\n",
              "Name: Type_of_Breach, dtype: int64"
            ]
          },
          "metadata": {
            "tags": []
          },
          "execution_count": 37
        }
      ]
    },
    {
      "cell_type": "code",
      "metadata": {
        "id": "IPzn273Vldw0",
        "colab_type": "code",
        "colab": {}
      },
      "source": [
        "df1['Breach2'] = df1[\"Type_of_Breach\"].replace(\n",
        "    ['Unauthorized Access/Disclosure, Other',\n",
        "     'Unauthorized Access/Disclosure, Hacking/IT Incident'],\n",
        "     ['Unauthorized Access','Unauthorized Disclosure'] \n",
        "     )"
      ],
      "execution_count": 0,
      "outputs": []
    },
    {
      "cell_type": "code",
      "metadata": {
        "id": "KK1bm8y5mfcp",
        "colab_type": "code",
        "outputId": "76e2d3e5-2d39-4b22-f455-704177756c22",
        "colab": {
          "base_uri": "https://localhost:8080/",
          "height": 217
        }
      },
      "source": [
        "df1[\"Breach2\"].value_counts()"
      ],
      "execution_count": 39,
      "outputs": [
        {
          "output_type": "execute_result",
          "data": {
            "text/plain": [
              "Theft                                    516\n",
              "Unauthorized Access/Disclosure           148\n",
              "Other                                     91\n",
              "Loss                                      85\n",
              "Hacking/IT Incident                       75\n",
              "Improper Disposal                         38\n",
              "Theft, Unauthorized Access/Disclosure     26\n",
              "Theft, Loss                               15\n",
              "Unknown                                   10\n",
              "Unauthorized Disclosure                    9\n",
              "Unauthorized Access                        8\n",
              "Name: Breach2, dtype: int64"
            ]
          },
          "metadata": {
            "tags": []
          },
          "execution_count": 39
        }
      ]
    },
    {
      "cell_type": "code",
      "metadata": {
        "id": "sHp2Jy3l4g6E",
        "colab_type": "code",
        "outputId": "2d792dc5-3ca1-4252-8547-dc8d2983f534",
        "colab": {
          "base_uri": "https://localhost:8080/",
          "height": 575
        }
      },
      "source": [
        "df1['Breach2'].value_counts().sort_index().plot.bar(figsize=(11,3))\n",
        "plt.xticks(rotation=75)\n",
        "plt.xlabel(\"Breach Type\")\n",
        "plt.ylabel('Breach Counts')\n",
        "plt.title('The Most Common Breaches Since 2009');\n"
      ],
      "execution_count": 40,
      "outputs": [
        {
          "output_type": "display_data",
          "data": {
            "image/png": "[encoded data removed]",
            "text/plain": [
              "<Figure size 1100x300 with 1 Axes>"
            ]
          },
          "metadata": {
            "tags": []
          }
        }
      ]
    },
    {
      "cell_type": "code",
      "metadata": {
        "id": "MQb4mIFKscaP",
        "colab_type": "code",
        "colab": {}
      },
      "source": [
        "df1['Affected2'] = df1['Individuals_Affected']/100"
      ],
      "execution_count": 0,
      "outputs": []
    },
    {
      "cell_type": "code",
      "metadata": {
        "id": "LDlX7sBKvIIa",
        "colab_type": "code",
        "colab": {}
      },
      "source": [
        "df1= df1[df1['Affected2'] <= 905]\n"
      ],
      "execution_count": 0,
      "outputs": []
    },
    {
      "cell_type": "code",
      "metadata": {
        "id": "QLlYJtuSuHs4",
        "colab_type": "code",
        "outputId": "cf168331-16b6-452d-83a2-74443869c8b6",
        "colab": {
          "base_uri": "https://localhost:8080/",
          "height": 167
        }
      },
      "source": [
        "df1['Affected2'].describe()"
      ],
      "execution_count": 43,
      "outputs": [
        {
          "output_type": "execute_result",
          "data": {
            "text/plain": [
              "count    986.000000\n",
              "mean      61.448905\n",
              "std      113.457621\n",
              "min        5.000000\n",
              "25%        9.552500\n",
              "50%       21.655000\n",
              "75%       58.472500\n",
              "max      840.000000\n",
              "Name: Affected2, dtype: float64"
            ]
          },
          "metadata": {
            "tags": []
          },
          "execution_count": 43
        }
      ]
    },
    {
      "cell_type": "code",
      "metadata": {
        "id": "duE9pdMO3cAD",
        "colab_type": "code",
        "outputId": "db2e6b3d-4634-421e-9de4-74d2bef97897",
        "colab": {
          "base_uri": "https://localhost:8080/",
          "height": 542
        }
      },
      "source": [
        "fig = go.Figure(data=go.Choropleth(\n",
        "    locations=df['State'], # Spatial coordinates\n",
        "    z = df1['Individuals_Affected'], # Data to be color-coded\n",
        "    locationmode = 'USA-states', # set of locations match entries in `locations`\n",
        "    colorscale = 'Reds',\n",
        "    colorbar_title = \" Number of People\",\n",
        "))\n",
        "\n",
        "fig.update_layout(\n",
        "    title_text = 'Number of People Affected by a Cyber Security Breach',\n",
        "    geo_scope='usa', # limite map scope to USA\n",
        ")\n",
        "\n",
        "fig.show()"
      ],
      "execution_count": 44,
      "outputs": [
        {
          "output_type": "display_data",
          "data": {
            "text/html": [
              "<html>\n",
              "<head><meta charset=\"utf-8\" /></head>\n",
              "<body>\n",
              "    <div>\n",
              "            <script src=\"https://cdnjs.cloudflare.com/ajax/libs/mathjax/2.7.5/MathJax.js?config=TeX-AMS-MML_SVG\"></script><script type=\"text/javascript\">if (window.MathJax) {MathJax.Hub.Config({SVG: {font: \"STIX-Web\"}});}</script>\n",
              "                <script type=\"text/javascript\">window.PlotlyConfig = {MathJaxConfig: 'local'};</script>\n",
              "        <script src=\"https://cdn.plot.ly/plotly-latest.min.js\"></script>    \n",
              "            <div id=\"90cabe3f-d52f-4c48-b843-6881b173ff26\" class=\"plotly-graph-div\" style=\"height:525px; width:100%;\"></div>\n",
              "            <script type=\"text/javascript\">\n",
              "                \n",
              "                    window.PLOTLYENV=window.PLOTLYENV || {};\n",
              "                    \n",
              "                if (document.getElementById(\"90cabe3f-d52f-4c48-b843-6881b173ff26\")) {\n",
              "                    Plotly.newPlot(\n",
              "                        '90cabe3f-d52f-4c48-b843-6881b173ff26',\n",
              "                        [{\"colorbar\": {\"title\": {\"text\": \" Number of People\"}}, \"colorscale\": [[0.0, \"rgb(255,245,240)\"], [0.125, \"rgb(254,224,210)\"], [0.25, \"rgb(252,187,161)\"], [0.375, \"rgb(252,146,114)\"], [0.5, \"rgb(251,106,74)\"], [0.625, \"rgb(239,59,44)\"], [0.75, \"rgb(203,24,29)\"], [0.875, \"rgb(165,15,21)\"], [1.0, \"rgb(103,0,13)\"]], \"locationmode\": \"USA-states\", \"locations\": [\"TX\", \"MO\", \"AK\", \"DC\", \"CA\", \"CA\", \"CA\", \"CA\", \"CA\", \"CA\", \"PA\", \"TN\", \"NY\", \"CA\", \"NC\", \"MI\", \"MI\", \"CA\", \"MA\", \"MA\", \"DC\", \"DC\", \"CA\", \"IL\", \"MI\", \"TX\", \"TX\", \"MO\", \"IL\", \"TX\", \"CA\", \"IL\", \"UT\", \"NV\", \"AZ\", \"RI\", \"PR\", \"PR\", \"FL\", \"TN\", \"CA\", \"NM\", \"CA\", \"CO\", \"FL\", \"WY\", \"WI\", \"NC\", \"NY\", \"TX\", \"FL\", \"WA\", \"FL\", \"CT\", \"AL\", \"TX\", \"AZ\", \"PA\", \"MI\", \"IL\", \"CA\", \"NE\", \"TX\", \"NY\", \"WI\", \"CT\", \"MA\", \"RI\", \"SC\", \"CA\", \"KY\", \"TN\", \"MN\", \"TX\", \"VA\", \"IL\", \"CO\", \"FL\", \"TX\", \"DC\", \"CA\", \"CA\", \"DC\", \"NM\", \"SC\", \"NY\", \"NE\", \"NC\", \"TX\", \"IL\", \"OH\", \"KS\", \"FL\", \"MN\", \"NY\", \"MI\", \"KY\", \"TN\", \"TN\", \"OH\", \"NY\", \"TX\", \"GA\", \"NV\", \"MD\", \"AZ\", \"CA\", \"TN\", \"CA\", \"NY\", \"NY\", \"FL\", \"NM\", \"CO\", \"VA\", \"NC\", \"IL\", \"MA\", \"NY\", \"DC\", \"NY\", \"OH\", \"TX\", \"CT\", \"TX\", \"KY\", \"IN\", \"NC\", \"MI\", \"TX\", \"TX\", \"OH\", \"PA\", \"OH\", \"TX\", \"IL\", \"MA\", \"KY\", \"MO\", \"PA\", \"NC\", \"ID\", \"CA\", \"WA\", \"TN\", \"CT\", \"KY\", \"IL\", \"OR\", \"NM\", \"MA\", \"NJ\", \"NJ\", \"NY\", \"NY\", \"DE\", \"VA\", \"MN\", \"NV\", \"RI\", \"IA\", \"IN\", \"CA\", \"KS\", \"MN\", \"NY\", \"OH\", \"AK\", \"IN\", \"MA\", \"CA\", \"CA\", \"NY\", \"IL\", \"OK\", \"CA\", \"MA\", \"NY\", \"TX\", \"KY\", \"MD\", \"TX\", \"UT\", \"WA\", \"AR\", \"TN\", \"CA\", \"PR\", \"CT\", \"MS\", \"PR\", \"CT\", \"NE\", \"NY\", \"IN\", \"MO\", \"MI\", \"FL\", \"NJ\", \"CA\", \"OK\", \"PA\", \"NY\", \"TN\", \"LA\", \"TX\", \"PR\", \"PA\", \"MD\", \"IL\", \"WI\", \"OH\", \"CA\", \"WI\", \"IN\", \"MN\", \"PA\", \"KY\", \"MD\", \"AL\", \"PA\", \"FL\", \"OH\", \"NH\", \"FL\", \"VA\", \"IN\", \"TX\", \"WA\", \"SC\", \"MI\", \"SC\", \"TN\", \"WA\", \"TX\", \"TX\", \"TN\", \"CO\", \"KY\", \"MT\", \"WA\", \"MO\", \"NY\", \"CA\", \"IL\", \"WV\", \"AZ\", \"PR\", \"MI\", \"NY\", \"CO\", \"FL\", \"MA\", \"KY\", \"OK\", \"MO\", \"TX\", \"NY\", \"AL\", \"WV\", \"CA\", \"CA\", \"AK\", \"AZ\", \"AZ\", \"CT\", \"OK\", \"MO\", \"OK\", \"SC\", \"CA\", \"AZ\", \"MN\", \"WI\", \"WY\", \"NC\", \"IL\", \"IL\", \"AZ\", \"IL\", \"IL\", \"OH\", \"NH\", \"TX\", \"MA\", \"IN\", \"MO\", \"PA\", \"PR\", \"PR\", \"AZ\", \"FL\", \"CA\", \"TX\", \"NY\", \"NY\", \"MD\", \"PR\", \"MI\", \"SC\", \"KY\", \"WA\", \"OR\", \"NC\", \"AZ\", \"SC\", \"CA\", \"GA\", \"WV\", \"CA\", \"WA\", \"FL\", \"TN\", \"TN\", \"MO\", \"AZ\", \"OH\", \"LA\", \"CA\", \"CO\", \"CA\", \"FL\", \"NY\", \"AL\", \"MI\", \"PR\", \"GA\", \"MA\", \"GA\", \"VA\", \"CA\", \"TN\", \"IL\", \"KY\", \"TX\", \"OR\", \"CA\", \"MA\", \"IN\", \"NJ\", \"NJ\", \"NJ\", \"NJ\", \"WA\", \"DE\", \"MD\", \"GA\", \"NJ\", \"NJ\", \"PR\", \"TX\", \"IL\", \"IL\", \"KY\", \"PA\", \"IL\", \"CA\", \"CA\", \"AR\", \"IN\", \"TX\", \"WI\", \"PR\", \"TX\", \"GA\", \"MS\", \"TX\", \"WA\", \"PA\", \"IL\", \"TX\", \"PA\", \"NY\", \"PA\", \"TN\", \"PR\", \"TN\", \"NE\", \"NE\", \"MI\", \"IN\", \"MA\", \"FL\", \"CA\", \"MN\", \"MN\", \"MA\", \"MN\", \"MD\", \"NM\", \"FL\", \"PA\", \"PA\", \"MA\", \"AR\", \"MO\", \"TX\", \"IN\", \"FL\", \"DC\", \"NY\", \"MI\", \"NC\", \"OH\", \"OH\", \"FL\", \"TX\", \"PA\", \"MD\", \"VA\", \"CA\", \"WV\", \"KS\", \"AL\", \"ND\", \"TX\", \"KY\", \"TN\", \"FL\", \"IN\", \"PA\", \"IL\", \"IL\", \"NE\", \"GA\", \"WA\", \"CA\", \"TN\", \"WA\", \"TX\", \"MA\", \"FL\", \"NC\", \"PA\", \"IN\", \"MI\", \"NH\", \"KS\", \"CA\", \"OK\", \"VA\", \"NY\", \"IN\", \"WA\", \"CO\", \"FL\", \"MN\", \"NC\", \"MN\", \"CA\", \"MI\", \"NJ\", \"WI\", \"IN\", \"DC\", \"CA\", \"LA\", \"OR\", \"PA\", \"NM\", \"GA\", \"PR\", \"MD\", \"TX\", \"AK\", \"KY\", \"IN\", \"PR\", \"PR\", \"PR\", \"PR\", \"CA\", \"NY\", \"PR\", \"CA\", \"PR\", \"GA\", \"TX\", \"IL\", \"MA\", \"NC\", \"CA\", \"MN\", \"NY\", \"TX\", \"MI\", \"MA\", \"AZ\", \"CA\", \"TX\", \"CA\", \"UT\", \"IN\", \"NY\", \"FL\", \"WA\", \"TX\", \"GA\", \"OR\", \"CA\", \"AR\", \"FL\", \"SC\", \"OR\", \"CA\", \"AZ\", \"TX\", \"MI\", \"WA\", \"AL\", \"TX\", \"WV\", \"IA\", \"MO\", \"MN\", \"CA\", \"MN\", \"LA\", \"MN\", \"CA\", \"NC\", \"FL\", \"NE\", \"MA\", \"OH\", \"CA\", \"GA\", \"CT\", \"TX\", \"TX\", \"WA\", \"TN\", \"GA\", \"IN\", \"FL\", \"OR\", \"NY\", \"FL\", \"KY\", \"KY\", \"MT\", \"NC\", \"TX\", \"TX\", \"IL\", \"CA\", \"CA\", \"IA\", \"OR\", \"NC\", \"MA\", \"NY\", \"IN\", \"IL\", \"IN\", \"AZ\", \"IL\", \"IL\", \"CT\", \"CT\", \"IN\", \"OR\", \"CA\", \"IN\", \"TX\", \"DC\", \"CA\", \"FL\", \"PA\", \"TX\", \"IL\", \"FL\", \"IN\", \"GA\", \"NV\", \"WA\", \"FL\", \"NM\", \"VA\", \"AR\", \"CT\", \"NY\", \"CA\", \"KY\", \"MO\", \"CA\", \"KY\", \"FL\", \"TN\", \"CA\", \"GA\", \"CA\", \"NJ\", \"IN\", \"PA\", \"RI\", \"OH\", \"NY\", \"IL\", \"FL\", \"LA\", \"RI\", \"CO\", \"TX\", \"CA\", \"HI\", \"CT\", \"NM\", \"MA\", \"IN\", \"GA\", \"CT\", \"FL\", \"OH\", \"FL\", \"KY\", \"IL\", \"NC\", \"CA\", \"FL\", \"TN\", \"CA\", \"RI\", \"GA\", \"VA\", \"FL\", \"NC\", \"FL\", \"TX\", \"MA\", \"NY\", \"AR\", \"AR\", \"AR\", \"MI\", \"OH\", \"NY\", \"AZ\", \"CA\", \"MI\", \"IN\", \"NJ\", \"KY\", \"MA\", \"VA\", \"TX\", \"NY\", \"CA\", \"MA\", \"NV\", \"MD\", \"AZ\", \"NJ\", \"MA\", \"LA\", \"MA\", \"NY\", \"MO\", \"MD\", \"PA\", \"TX\", \"NY\", \"TX\", \"WI\", \"TX\", \"IL\", \"AL\", \"TN\", \"NC\", \"FL\", \"GA\", \"MD\", \"CA\", \"WI\", \"FL\", \"MD\", \"MA\", \"MO\", \"GA\", \"FL\", \"NM\", \"GA\", \"FL\", \"SD\", \"AZ\", \"CA\", \"CA\", \"GA\", \"NY\", \"NY\", \"IL\", \"FL\", \"PA\", \"ME\", \"CA\", \"UT\", \"OH\", \"CT\", \"FL\", \"FL\", \"MD\", \"IN\", \"IN\", \"IN\", \"FL\", \"OR\", \"MA\", \"MS\", \"UT\", \"TX\", \"RI\", \"WA\", \"CA\", \"FL\", \"FL\", \"IL\", \"NY\", \"NC\", \"TX\", \"WI\", \"SC\", \"MO\", \"OR\", \"IN\", \"NY\", \"TX\", \"UT\", \"UT\", \"PA\", \"NC\", \"NC\", \"AZ\", \"OH\", \"NY\", \"TX\", \"CA\", \"WA\", \"TN\", \"NC\", \"TN\", \"NC\", \"IN\", \"NY\", \"OH\", \"PA\", \"IN\", \"IN\", \"AR\", \"AL\", \"NY\", \"CA\", \"FL\", \"OH\", \"MA\", \"FL\", \"CA\", \"NC\", \"OR\", \"MO\", \"FL\", \"FL\", \"IA\", \"NE\", \"TX\", \"GA\", \"IN\", \"VA\", \"CA\", \"FL\", \"OH\", \"NC\", \"CA\", \"IL\", \"PA\", \"MN\", \"TX\", \"CA\", \"WY\", \"MO\", \"TX\", \"CA\", \"FL\", \"NY\", \"LA\", \"OR\", \"CO\", \"CA\", \"AR\", \"TX\", \"TN\", \"OH\", \"IN\", \"IN\", \"MO\", \"TN\", \"CA\", \"TX\", \"ND\", \"FL\", \"IL\", \"CO\", \"TX\", \"CA\", \"GA\", \"MO\", \"CO\", \"MO\", \"OR\", \"CA\", \"IL\", \"PR\", \"TN\", \"SC\", \"IL\", \"IL\", \"NY\", \"FL\", \"CA\", \"MO\", \"FL\", \"VA\", \"OH\", \"CA\", \"CO\", \"OH\", \"TN\", \"NJ\", \"IA\", \"GA\", \"CA\", \"PA\", \"WA\", \"PA\", \"NC\", \"NY\", \"WI\", \"MO\", \"SC\", \"MI\", \"IN\", \"CO\", \"IL\", \"VT\", \"AK\", \"FL\", \"VA\", \"NY\", \"TX\", \"TX\", \"NY\", \"NY\", \"MO\", \"CA\", \"WI\", \"CA\", \"TX\", \"FL\", \"FL\", \"PA\", \"SC\", \"TX\", \"PA\", \"CO\", \"NJ\", \"CO\", \"NC\", \"NC\", \"PR\", \"PR\", \"NC\", \"ND\", \"MD\", \"AZ\", \"NY\", \"FL\", \"MI\", \"GA\", \"WI\", \"CA\", \"CA\", \"IN\", \"WA\", \"PA\", \"WA\", \"IL\", \"IL\", \"IL\", \"GA\", \"GA\", \"IL\", \"TX\", \"FL\", \"GA\", \"KY\", \"CA\", \"NE\", \"NJ\", \"VA\", \"WY\", \"MT\", \"SC\", \"TN\", \"PA\", \"TX\", \"CA\", \"MA\", \"NC\", \"FL\", \"NM\", \"CO\", \"NJ\", \"GA\", \"WA\", \"PA\", \"NC\", \"CA\", \"MS\", \"VA\", \"IL\", \"OH\", \"CA\", \"PR\", \"PR\", \"AL\", \"OH\", \"WI\", \"TX\", \"DE\", \"TX\", \"CA\", \"CA\", \"GA\", \"OH\", \"TN\", \"CT\", \"MI\", \"KS\", \"NY\", \"NY\", \"IL\", \"WA\", \"NY\", \"FL\", \"PA\", \"OH\", \"CA\", \"IN\", \"MO\", \"CA\", \"MN\", \"NJ\", \"TN\", \"VA\", \"OH\", \"OH\", \"NC\", \"TX\", \"AR\", \"CA\", \"TX\", \"AZ\", \"AL\", \"AL\", \"IA\", \"CA\", \"CA\", \"PA\", \"CA\", \"MI\", \"TX\", \"CO\", \"AZ\", \"TX\", \"NY\", \"KY\", \"MN\", \"MN\", \"MN\", \"MN\", \"CA\", \"KY\", \"MT\", \"FL\", \"VA\", \"PA\", \"KY\", \"WA\", \"CA\", \"UT\", \"TX\", \"FL\", \"IL\", \"TX\", \"CA\", \"PR\", \"PR\", \"MI\", \"CA\", \"IL\", \"KS\", \"CT\", \"VA\", \"MO\", \"TN\", \"CA\", \"PR\", \"MS\", \"MD\", \"CA\", \"OH\", \"IA\", \"ID\", \"MD\", \"PA\", \"CO\", \"FL\", \"MA\", \"MD\", \"NY\", \"UT\", \"TX\", \"TX\", \"TX\", \"TX\", \"IN\", \"IA\", \"AL\", \"PA\", \"OH\", \"MA\", \"KY\", \"NJ\", \"CA\", \"TX\", \"NJ\", \"PR\", \"OR\", \"MI\", \"NH\", \"KY\", \"NY\", \"OH\", \"PR\", \"CT\", \"KS\", \"PA\", \"CA\", \"PA\", \"IL\", \"GA\", \"PR\", \"FL\", \"CA\", \"MI\", \"CA\"], \"type\": \"choropleth\", \"z\": [1000, 1000, 501, 3800, 5257, 857, 6145, 952, 5166, 5900, 943, 6400, 83000, 596, 2000, 10000, 646, 610, 1860, 1076, 3400, 15000, 15500, 2562, 10000, 3800, 900, 9309, 812, 689, 7300, 1300, 5700, 5103, 1100, 528, 1907, 605, 8000, 3900, 532, 1900, 3500, 2500, 12580, 9500, 554, 625, 21000, 3800, 5080, 2600, 957, 2465, 2773, 8000, 83945, 6800, 5450, 660, 955, 600, 54165, 3594, 12000, 2850, 22012, 5148, 1874, 735, 500, 649, 568, 4200, 40000, 584, 656, 9600, 653, 2628, 800, 5220, 4083, 1000, 60998, 1105, 16291, 2300, 708, 1745, 10515, 1001, 1020, 600, 14000, 7526, 937, 5893, 1000, 1537, 800, 2563, 2047, 3830, 669, 13000, 1097, 16820, 540, 23753, 1200, 27000, 6372, 6873, 2631, 31700, 1590, 1073, 694, 1646, 1309, 560, 13867, 25000, 657, 11440, 2089, 1907, 21000, 2300, 5500, 10100, 2698, 1711, 1000, 2027, 7081, 4328, 1000, 24750, 956, 3630, 1200, 857, 22642, 2739, 1740, 507, 1361, 19222, 2000, 33000, 1200, 1270, 9000, 2123, 2000, 1199, 20000, 1474, 1474, 6800, 967, 19200, 928, 11000, 578, 4700, 2200, 692, 585, 1298, 9493, 1000, 716, 2345, 1104, 12000, 1550, 535, 845, 1400, 3700, 1500, 1744, 771, 613, 542, 8200, 9475, 800, 1085, 1000, 556, 3288, 1000, 1250, 585, 757, 3159, 2928, 24600, 800, 2000, 808, 501, 2200, 11982, 1848, 9922, 1250, 5596, 656, 16200, 4800, 12009, 4486, 8241, 500, 546, 18871, 37000, 3100, 800, 2250, 2700, 3655, 2291, 2621, 2777, 500, 4500, 7366, 942, 8845, 600, 765, 654, 670, 20744, 1470, 667, 1700, 635, 10000, 84000, 935, 2717, 566, 1215, 675, 15000, 6000, 845, 686, 9393, 532, 1070, 500, 5960, 1500, 563, 22001, 850, 1388, 32390, 24361, 654, 8000, 620, 1031, 550, 550, 13412, 6006, 11387, 1986, 2700, 17000, 1263, 1280, 1192, 884, 950, 15677, 1105, 3463, 810, 705, 1288, 78042, 2000, 694, 3589, 10190, 1562, 712, 880, 5000, 2800, 7500, 2021, 25330, 700, 4573, 1378, 501, 3604, 1870, 1200, 1500, 638, 506, 6443, 8795, 15015, 6179, 3950, 948, 2459, 63425, 6785, 6950, 5848, 10345, 815, 32008, 1432, 3000, 2000, 19651, 1800, 3116, 2059, 1696, 3000, 2000, 2541, 863, 1797, 1300, 2367, 4000, 518, 1259, 507, 2600, 579, 731, 2209, 690, 1631, 705, 520, 3266, 2200, 700, 2600, 6697, 599, 3994, 1500, 1537, 12784, 3150, 500, 14750, 1472, 7059, 6672, 757, 2200, 1526, 927, 1100, 551, 1089, 946, 2900, 567, 55000, 5000, 2761, 12563, 8275, 650, 2464, 878, 1770, 772, 10705, 2900, 7226, 2000, 611, 17000, 4693, 11081, 2185, 7581, 870, 2988, 1670, 50000, 1300, 2700, 1700, 771, 7757, 11646, 844, 1444, 549, 1423, 3100, 1219, 6678, 2000, 14000, 1366, 1700, 1287, 698, 660, 1549, 703, 2088, 2300, 728, 7000, 632, 7706, 10480, 2559, 2743, 1182, 20000, 5994, 10000, 4645, 27098, 1431, 577, 7923, 875, 7606, 513, 1972, 750, 3482, 1370, 712, 3537, 642, 502, 1229, 6831, 9565, 1000, 555, 2000, 1000, 6745, 9497, 2100, 1000, 20915, 4400, 7121, 750, 550, 961, 42000, 750, 3000, 1597, 1655, 7000, 2905, 3000, 1134, 4000, 3900, 623, 17000, 19100, 1900, 591, 1137, 3000, 2159, 15000, 745, 12937, 925, 500, 756, 1102, 824, 1444, 2557, 11136, 568, 1409, 4490, 824, 708, 9953, 585, 2462, 1500, 1298, 2917, 3900, 8488, 550, 7067, 1504, 4800, 4211, 1240, 7461, 2097, 505, 702, 2300, 890, 2875, 66601, 603, 3183, 2264, 754, 500, 55000, 4000, 800, 942, 64846, 2365, 4873, 5713, 5827, 13000, 3031, 2500, 13074, 65700, 2376, 27799, 3440, 980, 638, 2900, 2600, 955, 500, 1017, 508, 2560, 10271, 14004, 6262, 5748, 18000, 674, 14511, 540, 615, 2575, 1306, 1749, 10000, 613, 715, 1548, 500, 1100, 1370, 911, 774, 1500, 683, 908, 1846, 949, 5600, 4907, 6601, 1286, 4929, 811, 7039, 2863, 3999, 850, 28187, 35488, 2643, 4100, 28893, 1090, 4343, 56820, 2988, 1771, 532, 4125, 1483, 635, 852, 8555, 7250, 1400, 4100, 19178, 1105, 3230, 1184, 678, 725, 29021, 2400, 8911, 16988, 2400, 1103, 1000, 1200, 500, 5822, 43549, 566, 5270, 716, 4027, 1819, 1892, 778, 18000, 3667, 8500, 501, 686, 3000, 2261, 28187, 500, 834, 527, 1920, 18162, 6332, 1200, 1382, 12299, 1318, 6400, 2608, 1678, 528, 628, 3269, 8727, 500, 697, 629, 2400, 1025, 12542, 2360, 5370, 554, 3794, 7405, 589, 1076, 3131, 1416, 818, 857, 700, 14829, 1580, 3800, 2500, 537, 22000, 750, 1180, 9988, 539, 1924, 10350, 10000, 9577, 7803, 5388, 2723, 1900, 3164, 2434, 1386, 5875, 1167, 1670, 877, 12900, 1093, 959, 1127, 9626, 5200, 2125, 1955, 679, 4305, 8331, 900, 2203, 609, 4479, 3133, 4718, 2764, 2864, 2700, 4560, 21000, 710, 2700, 6994, 1361, 532, 1837, 1911, 940, 32151, 2045, 1396, 5497, 1357, 5690, 1033, 3200, 1471, 921, 596, 32000, 654, 2600, 1500, 10000, 647, 2182, 1290, 5000, 4268, 4204, 2029, 998, 8000, 916, 1009, 25461, 9900, 10228, 1360, 579, 3512, 517, 6932, 2500, 1825, 5232, 3553, 2350, 1015, 2810, 1310, 1586, 4330, 3100, 7120, 3947, 566, 606, 1067, 550, 1556, 960, 3645, 610, 949, 5500, 10930, 37000, 1300, 3833, 631, 5840, 603, 10680, 2300, 3500, 6284, 1167, 651, 1100, 687, 1315, 13336, 70189, 7300, 7606, 1456, 2279, 3804, 4837, 1300, 9328, 1039, 49000, 1500, 950, 1279, 76183, 2080, 1573, 1891, 5000, 4500, 17350, 44000, 4400, 4879, 535, 59000, 3857, 9642, 1499, 11935, 1900, 3432, 2777, 1674, 2826, 1400, 832, 1683, 2354, 12354, 1918, 6989, 2500, 3000, 48752, 2500, 1489, 25513, 22511, 953, 611, 8000, 1085, 1420, 41437, 3598, 1883, 4676, 3026, 841, 4230, 9602, 858, 5370, 1700, 937, 2172, 16446, 3104, 13074, 593, 1139, 2269, 1142, 10024, 520, 4786, 1411, 1511, 3458, 8845, 504, 548, 7500, 600, 3534, 3300, 55207, 1145, 1179, 2042, 5400, 7800, 5000, 9861, 1087, 5000, 5415, 1706, 1746, 1000, 55900, 1079, 543, 586, 657, 2992, 8300, 5499, 643, 1000, 580, 1256, 2934, 5178, 5795, 17776, 2595, 836, 979, 527, 75026, 2546, 1144, 793, 46473, 3750, 10766, 2523, 617, 1400, 6900, 46771, 733, 12286, 2365, 8830, 2200, 4830, 9800, 1253, 2308, 1981, 2742, 1361, 862, 629, 1845, 5696, 2387, 1008, 2828, 4744, 1000, 1749, 11531, 17914, 502, 1208, 2962, 26162, 594, 56853, 3814, 9640, 5845, 1801, 540, 1175, 28413, 1831, 33702, 2289, 5471]}],\n",
              "                        {\"geo\": {\"scope\": \"usa\"}, \"template\": {\"data\": {\"bar\": [{\"error_x\": {\"color\": \"#2a3f5f\"}, \"error_y\": {\"color\": \"#2a3f5f\"}, \"marker\": {\"line\": {\"color\": \"#E5ECF6\", \"width\": 0.5}}, \"type\": \"bar\"}], \"barpolar\": [{\"marker\": {\"line\": {\"color\": \"#E5ECF6\", \"width\": 0.5}}, \"type\": \"barpolar\"}], \"carpet\": [{\"aaxis\": {\"endlinecolor\": \"#2a3f5f\", \"gridcolor\": \"white\", \"linecolor\": \"white\", \"minorgridcolor\": \"white\", \"startlinecolor\": \"#2a3f5f\"}, \"baxis\": {\"endlinecolor\": \"#2a3f5f\", \"gridcolor\": \"white\", \"linecolor\": \"white\", \"minorgridcolor\": \"white\", \"startlinecolor\": \"#2a3f5f\"}, \"type\": \"carpet\"}], \"choropleth\": [{\"colorbar\": {\"outlinewidth\": 0, \"ticks\": \"\"}, \"type\": \"choropleth\"}], \"contour\": [{\"colorbar\": {\"outlinewidth\": 0, \"ticks\": \"\"}, \"colorscale\": [[0.0, \"#0d0887\"], [0.1111111111111111, \"#46039f\"], [0.2222222222222222, \"#7201a8\"], [0.3333333333333333, \"#9c179e\"], [0.4444444444444444, \"#bd3786\"], [0.5555555555555556, \"#d8576b\"], [0.6666666666666666, \"#ed7953\"], [0.7777777777777778, \"#fb9f3a\"], [0.8888888888888888, \"#fdca26\"], [1.0, \"#f0f921\"]], \"type\": \"contour\"}], \"contourcarpet\": [{\"colorbar\": {\"outlinewidth\": 0, \"ticks\": \"\"}, \"type\": \"contourcarpet\"}], \"heatmap\": [{\"colorbar\": {\"outlinewidth\": 0, \"ticks\": \"\"}, \"colorscale\": [[0.0, \"#0d0887\"], [0.1111111111111111, \"#46039f\"], [0.2222222222222222, \"#7201a8\"], [0.3333333333333333, \"#9c179e\"], [0.4444444444444444, \"#bd3786\"], [0.5555555555555556, \"#d8576b\"], [0.6666666666666666, \"#ed7953\"], [0.7777777777777778, \"#fb9f3a\"], [0.8888888888888888, \"#fdca26\"], [1.0, \"#f0f921\"]], \"type\": \"heatmap\"}], \"heatmapgl\": [{\"colorbar\": {\"outlinewidth\": 0, \"ticks\": \"\"}, \"colorscale\": [[0.0, \"#0d0887\"], [0.1111111111111111, \"#46039f\"], [0.2222222222222222, \"#7201a8\"], [0.3333333333333333, \"#9c179e\"], [0.4444444444444444, \"#bd3786\"], [0.5555555555555556, \"#d8576b\"], [0.6666666666666666, \"#ed7953\"], [0.7777777777777778, \"#fb9f3a\"], [0.8888888888888888, \"#fdca26\"], [1.0, \"#f0f921\"]], \"type\": \"heatmapgl\"}], \"histogram\": [{\"marker\": {\"colorbar\": {\"outlinewidth\": 0, \"ticks\": \"\"}}, \"type\": \"histogram\"}], \"histogram2d\": [{\"colorbar\": {\"outlinewidth\": 0, \"ticks\": \"\"}, \"colorscale\": [[0.0, \"#0d0887\"], [0.1111111111111111, \"#46039f\"], [0.2222222222222222, \"#7201a8\"], [0.3333333333333333, \"#9c179e\"], [0.4444444444444444, \"#bd3786\"], [0.5555555555555556, \"#d8576b\"], [0.6666666666666666, \"#ed7953\"], [0.7777777777777778, \"#fb9f3a\"], [0.8888888888888888, \"#fdca26\"], [1.0, \"#f0f921\"]], \"type\": \"histogram2d\"}], \"histogram2dcontour\": [{\"colorbar\": {\"outlinewidth\": 0, \"ticks\": \"\"}, \"colorscale\": [[0.0, \"#0d0887\"], [0.1111111111111111, \"#46039f\"], [0.2222222222222222, \"#7201a8\"], [0.3333333333333333, \"#9c179e\"], [0.4444444444444444, \"#bd3786\"], [0.5555555555555556, \"#d8576b\"], [0.6666666666666666, \"#ed7953\"], [0.7777777777777778, \"#fb9f3a\"], [0.8888888888888888, \"#fdca26\"], [1.0, \"#f0f921\"]], \"type\": \"histogram2dcontour\"}], \"mesh3d\": [{\"colorbar\": {\"outlinewidth\": 0, \"ticks\": \"\"}, \"type\": \"mesh3d\"}], \"parcoords\": [{\"line\": {\"colorbar\": {\"outlinewidth\": 0, \"ticks\": \"\"}}, \"type\": \"parcoords\"}], \"pie\": [{\"automargin\": true, \"type\": \"pie\"}], \"scatter\": [{\"marker\": {\"colorbar\": {\"outlinewidth\": 0, \"ticks\": \"\"}}, \"type\": \"scatter\"}], \"scatter3d\": [{\"line\": {\"colorbar\": {\"outlinewidth\": 0, \"ticks\": \"\"}}, \"marker\": {\"colorbar\": {\"outlinewidth\": 0, \"ticks\": \"\"}}, \"type\": \"scatter3d\"}], \"scattercarpet\": [{\"marker\": {\"colorbar\": {\"outlinewidth\": 0, \"ticks\": \"\"}}, \"type\": \"scattercarpet\"}], \"scattergeo\": [{\"marker\": {\"colorbar\": {\"outlinewidth\": 0, \"ticks\": \"\"}}, \"type\": \"scattergeo\"}], \"scattergl\": [{\"marker\": {\"colorbar\": {\"outlinewidth\": 0, \"ticks\": \"\"}}, \"type\": \"scattergl\"}], \"scattermapbox\": [{\"marker\": {\"colorbar\": {\"outlinewidth\": 0, \"ticks\": \"\"}}, \"type\": \"scattermapbox\"}], \"scatterpolar\": [{\"marker\": {\"colorbar\": {\"outlinewidth\": 0, \"ticks\": \"\"}}, \"type\": \"scatterpolar\"}], \"scatterpolargl\": [{\"marker\": {\"colorbar\": {\"outlinewidth\": 0, \"ticks\": \"\"}}, \"type\": \"scatterpolargl\"}], \"scatterternary\": [{\"marker\": {\"colorbar\": {\"outlinewidth\": 0, \"ticks\": \"\"}}, \"type\": \"scatterternary\"}], \"surface\": [{\"colorbar\": {\"outlinewidth\": 0, \"ticks\": \"\"}, \"colorscale\": [[0.0, \"#0d0887\"], [0.1111111111111111, \"#46039f\"], [0.2222222222222222, \"#7201a8\"], [0.3333333333333333, \"#9c179e\"], [0.4444444444444444, \"#bd3786\"], [0.5555555555555556, \"#d8576b\"], [0.6666666666666666, \"#ed7953\"], [0.7777777777777778, \"#fb9f3a\"], [0.8888888888888888, \"#fdca26\"], [1.0, \"#f0f921\"]], \"type\": \"surface\"}], \"table\": [{\"cells\": {\"fill\": {\"color\": \"#EBF0F8\"}, \"line\": {\"color\": \"white\"}}, \"header\": {\"fill\": {\"color\": \"#C8D4E3\"}, \"line\": {\"color\": \"white\"}}, \"type\": \"table\"}]}, \"layout\": {\"annotationdefaults\": {\"arrowcolor\": \"#2a3f5f\", \"arrowhead\": 0, \"arrowwidth\": 1}, \"coloraxis\": {\"colorbar\": {\"outlinewidth\": 0, \"ticks\": \"\"}}, \"colorscale\": {\"diverging\": [[0, \"#8e0152\"], [0.1, \"#c51b7d\"], [0.2, \"#de77ae\"], [0.3, \"#f1b6da\"], [0.4, \"#fde0ef\"], [0.5, \"#f7f7f7\"], [0.6, \"#e6f5d0\"], [0.7, \"#b8e186\"], [0.8, \"#7fbc41\"], [0.9, \"#4d9221\"], [1, \"#276419\"]], \"sequential\": [[0.0, \"#0d0887\"], [0.1111111111111111, \"#46039f\"], [0.2222222222222222, \"#7201a8\"], [0.3333333333333333, \"#9c179e\"], [0.4444444444444444, \"#bd3786\"], [0.5555555555555556, \"#d8576b\"], [0.6666666666666666, \"#ed7953\"], [0.7777777777777778, \"#fb9f3a\"], [0.8888888888888888, \"#fdca26\"], [1.0, \"#f0f921\"]], \"sequentialminus\": [[0.0, \"#0d0887\"], [0.1111111111111111, \"#46039f\"], [0.2222222222222222, \"#7201a8\"], [0.3333333333333333, \"#9c179e\"], [0.4444444444444444, \"#bd3786\"], [0.5555555555555556, \"#d8576b\"], [0.6666666666666666, \"#ed7953\"], [0.7777777777777778, \"#fb9f3a\"], [0.8888888888888888, \"#fdca26\"], [1.0, \"#f0f921\"]]}, \"colorway\": [\"#636efa\", \"#EF553B\", \"#00cc96\", \"#ab63fa\", \"#FFA15A\", \"#19d3f3\", \"#FF6692\", \"#B6E880\", \"#FF97FF\", \"#FECB52\"], \"font\": {\"color\": \"#2a3f5f\"}, \"geo\": {\"bgcolor\": \"white\", \"lakecolor\": \"white\", \"landcolor\": \"#E5ECF6\", \"showlakes\": true, \"showland\": true, \"subunitcolor\": \"white\"}, \"hoverlabel\": {\"align\": \"left\"}, \"hovermode\": \"closest\", \"mapbox\": {\"style\": \"light\"}, \"paper_bgcolor\": \"white\", \"plot_bgcolor\": \"#E5ECF6\", \"polar\": {\"angularaxis\": {\"gridcolor\": \"white\", \"linecolor\": \"white\", \"ticks\": \"\"}, \"bgcolor\": \"#E5ECF6\", \"radialaxis\": {\"gridcolor\": \"white\", \"linecolor\": \"white\", \"ticks\": \"\"}}, \"scene\": {\"xaxis\": {\"backgroundcolor\": \"#E5ECF6\", \"gridcolor\": \"white\", \"gridwidth\": 2, \"linecolor\": \"white\", \"showbackground\": true, \"ticks\": \"\", \"zerolinecolor\": \"white\"}, \"yaxis\": {\"backgroundcolor\": \"#E5ECF6\", \"gridcolor\": \"white\", \"gridwidth\": 2, \"linecolor\": \"white\", \"showbackground\": true, \"ticks\": \"\", \"zerolinecolor\": \"white\"}, \"zaxis\": {\"backgroundcolor\": \"#E5ECF6\", \"gridcolor\": \"white\", \"gridwidth\": 2, \"linecolor\": \"white\", \"showbackground\": true, \"ticks\": \"\", \"zerolinecolor\": \"white\"}}, \"shapedefaults\": {\"line\": {\"color\": \"#2a3f5f\"}}, \"ternary\": {\"aaxis\": {\"gridcolor\": \"white\", \"linecolor\": \"white\", \"ticks\": \"\"}, \"baxis\": {\"gridcolor\": \"white\", \"linecolor\": \"white\", \"ticks\": \"\"}, \"bgcolor\": \"#E5ECF6\", \"caxis\": {\"gridcolor\": \"white\", \"linecolor\": \"white\", \"ticks\": \"\"}}, \"title\": {\"x\": 0.05}, \"xaxis\": {\"automargin\": true, \"gridcolor\": \"white\", \"linecolor\": \"white\", \"ticks\": \"\", \"title\": {\"standoff\": 15}, \"zerolinecolor\": \"white\", \"zerolinewidth\": 2}, \"yaxis\": {\"automargin\": true, \"gridcolor\": \"white\", \"linecolor\": \"white\", \"ticks\": \"\", \"title\": {\"standoff\": 15}, \"zerolinecolor\": \"white\", \"zerolinewidth\": 2}}}, \"title\": {\"text\": \"Number of People Affected by a Cyber Security Breach\"}},\n",
              "                        {\"responsive\": true}\n",
              "                    ).then(function(){\n",
              "                            \n",
              "var gd = document.getElementById('90cabe3f-d52f-4c48-b843-6881b173ff26');\n",
              "var x = new MutationObserver(function (mutations, observer) {{\n",
              "        var display = window.getComputedStyle(gd).display;\n",
              "        if (!display || display === 'none') {{\n",
              "            console.log([gd, 'removed!']);\n",
              "            Plotly.purge(gd);\n",
              "            observer.disconnect();\n",
              "        }}\n",
              "}});\n",
              "\n",
              "// Listen for the removal of the full notebook cells\n",
              "var notebookContainer = gd.closest('#notebook-container');\n",
              "if (notebookContainer) {{\n",
              "    x.observe(notebookContainer, {childList: true});\n",
              "}}\n",
              "\n",
              "// Listen for the clearing of the current output cell\n",
              "var outputEl = gd.closest('.output');\n",
              "if (outputEl) {{\n",
              "    x.observe(outputEl, {childList: true});\n",
              "}}\n",
              "\n",
              "                        })\n",
              "                };\n",
              "                \n",
              "            </script>\n",
              "        </div>\n",
              "</body>\n",
              "</html>"
            ]
          },
          "metadata": {
            "tags": []
          }
        }
      ]
    },
    {
      "cell_type": "code",
      "metadata": {
        "id": "BvnSnD5IV6k7",
        "colab_type": "code",
        "outputId": "daee1fa8-fe9d-45ab-bc9b-1621c95afe99",
        "colab": {
          "base_uri": "https://localhost:8080/",
          "height": 217
        }
      },
      "source": [
        "df1[\"Date_of_Breach\"].value_counts(all)"
      ],
      "execution_count": 45,
      "outputs": [
        {
          "output_type": "execute_result",
          "data": {
            "text/plain": [
              "6/24/2011                  0.007099\n",
              "1/11/2012                  0.007099\n",
              "3/10/2011                  0.006085\n",
              "9/20/2013                  0.006085\n",
              "9/27/2009                  0.006085\n",
              "                             ...   \n",
              "03/05/2013 - 07/16/2013    0.001014\n",
              "09/13/2013 - 10/15/2013    0.001014\n",
              "05/07/2013-06/06/2013      0.001014\n",
              "5/12/2010                  0.001014\n",
              "8/11/2011                  0.001014\n",
              "Name: Date_of_Breach, Length: 752, dtype: float64"
            ]
          },
          "metadata": {
            "tags": []
          },
          "execution_count": 45
        }
      ]
    },
    {
      "cell_type": "code",
      "metadata": {
        "id": "m13JZV0EYwLK",
        "colab_type": "code",
        "colab": {}
      },
      "source": [
        ""
      ],
      "execution_count": 0,
      "outputs": []
    }
  ]
}